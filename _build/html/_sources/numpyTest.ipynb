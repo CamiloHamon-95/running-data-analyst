{
 "cells": [
  {
   "cell_type": "code",
   "execution_count": 1,
   "id": "49175def-2ff1-42df-b2ab-08c96e3bbf16",
   "metadata": {},
   "outputs": [],
   "source": [
    "# Import library Numpy"
   ]
  },
  {
   "cell_type": "code",
   "execution_count": 2,
   "id": "8f807228-7411-4fc3-a570-b2b10994c9dd",
   "metadata": {},
   "outputs": [],
   "source": [
    "import numpy as np"
   ]
  },
  {
   "cell_type": "code",
   "execution_count": 3,
   "id": "db712b3b-7686-47fa-aba1-89f19d0a30fc",
   "metadata": {},
   "outputs": [],
   "source": [
    "# Use several Numpy tools"
   ]
  },
  {
   "cell_type": "code",
   "execution_count": 4,
   "id": "8658e096-ee5b-430d-8c73-02523068e6a7",
   "metadata": {},
   "outputs": [],
   "source": [
    "data = np.array([1,2,3,4,5])\n",
    "data2 = np.arange(0,48,2)\n",
    "data3 = np.full(shape=(3,2),fill_value=12)\n",
    "data4 = np.eye(5)\n",
    "data5 = np.identity(3)\n",
    "data6 = data2[(len(data2)//2):-10]\n",
    "data7 = np.full(shape=(2,2,2,3),fill_value=0)\n",
    "data8 = data2.reshape((2,2,2,3))"
   ]
  },
  {
   "cell_type": "code",
   "execution_count": 5,
   "id": "542689aa-85a6-49f7-94f4-159915c8a305",
   "metadata": {},
   "outputs": [],
   "source": [
    "# Print some outputs"
   ]
  },
  {
   "cell_type": "code",
   "execution_count": 6,
   "id": "3d3f9f48-024f-490d-ad60-c0ba04645593",
   "metadata": {},
   "outputs": [
    {
     "name": "stdout",
     "output_type": "stream",
     "text": [
      "[3 4]\n",
      "3\n"
     ]
    }
   ],
   "source": [
    "print(data[2:4])\n",
    "print(data[2:4][0])"
   ]
  }
 ],
 "metadata": {
  "kernelspec": {
   "display_name": "Python 3 (ipykernel)",
   "language": "python",
   "name": "python3"
  },
  "language_info": {
   "codemirror_mode": {
    "name": "ipython",
    "version": 3
   },
   "file_extension": ".py",
   "mimetype": "text/x-python",
   "name": "python",
   "nbconvert_exporter": "python",
   "pygments_lexer": "ipython3",
   "version": "3.10.13"
  }
 },
 "nbformat": 4,
 "nbformat_minor": 5
}
